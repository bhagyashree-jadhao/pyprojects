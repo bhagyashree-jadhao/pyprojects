{
 "cells": [
  {
   "cell_type": "code",
   "execution_count": 14,
   "id": "1cfb17aa",
   "metadata": {},
   "outputs": [
    {
     "name": "stdout",
     "output_type": "stream",
     "text": [
      "Enter the number : 3\n",
      "enter the student record : name:ram\n",
      "enter the student record : class:tybsc\n",
      "enter the student record : roll:4\n",
      "{'name': 'ram', 'class': 'tybsc', 'roll': '4'}\n",
      "name : ram\n",
      "class : tybsc\n",
      "roll : 4\n",
      "name\n",
      "class\n",
      "roll\n",
      "ram\n",
      "tybsc\n",
      "4\n",
      "Enter the key name that have to change:roll\n",
      "enter the value of roll :5\n",
      "{'name': 'ram', 'class': 'tybsc', 'roll': '5'}\n"
     ]
    }
   ],
   "source": [
    "#create dictinary of student\n",
    "d={}\n",
    "n=int(input(\"Enter the number : \"))\n",
    "for i in range(n):\n",
    "    s=input(\"enter the student record : \").split(':')\n",
    "    d[s[0]]=s[1]\n",
    "print(d)\n",
    "for i,j in d.items():\n",
    "    print(i,':',j)\n",
    "for i in d.keys():\n",
    "       print(i)\n",
    "for j in d.values():\n",
    "    print(j)\n",
    "# change the element in dict.\n",
    "k=input(\"Enter the key name that have to change:\")\n",
    "\n",
    "if k in d:\n",
    "        d[k]=input(f\"enter the value of {k} :\")\n",
    "print(d)\n",
    "    "
   ]
  },
  {
   "cell_type": "code",
   "execution_count": 15,
   "id": "1341771f",
   "metadata": {},
   "outputs": [
    {
     "name": "stdout",
     "output_type": "stream",
     "text": [
      "Which element you have to delete : \n",
      "enter the key : class\n",
      "{'name': 'ram', 'roll': '5'}\n"
     ]
    }
   ],
   "source": [
    "#delete ement  in dict\n",
    "print(\"Which element you have to delete : \")\n",
    "k1=input(\"enter the key : \")\n",
    "if k1 in d:\n",
    "    d.pop(k1)\n",
    "print(d)"
   ]
  },
  {
   "cell_type": "code",
   "execution_count": 16,
   "id": "7c44f5e3",
   "metadata": {},
   "outputs": [
    {
     "data": {
      "text/plain": [
       "('roll', '5')"
      ]
     },
     "execution_count": 16,
     "metadata": {},
     "output_type": "execute_result"
    }
   ],
   "source": [
    "d.popitem()"
   ]
  },
  {
   "cell_type": "code",
   "execution_count": 17,
   "id": "70346be7",
   "metadata": {},
   "outputs": [
    {
     "data": {
      "text/plain": [
       "{'name': 'ram'}"
      ]
     },
     "execution_count": 17,
     "metadata": {},
     "output_type": "execute_result"
    }
   ],
   "source": [
    "d"
   ]
  },
  {
   "cell_type": "code",
   "execution_count": 18,
   "id": "6dbdad20",
   "metadata": {},
   "outputs": [],
   "source": [
    "d.clear()"
   ]
  },
  {
   "cell_type": "code",
   "execution_count": 19,
   "id": "9936a7e4",
   "metadata": {},
   "outputs": [
    {
     "data": {
      "text/plain": [
       "{}"
      ]
     },
     "execution_count": 19,
     "metadata": {},
     "output_type": "execute_result"
    }
   ],
   "source": [
    "d"
   ]
  },
  {
   "cell_type": "code",
   "execution_count": 22,
   "id": "767d4167",
   "metadata": {},
   "outputs": [],
   "source": [
    "del d"
   ]
  },
  {
   "cell_type": "code",
   "execution_count": 23,
   "id": "32be838e",
   "metadata": {},
   "outputs": [
    {
     "ename": "NameError",
     "evalue": "name 'd' is not defined",
     "output_type": "error",
     "traceback": [
      "\u001b[1;31m---------------------------------------------------------------------------\u001b[0m",
      "\u001b[1;31mNameError\u001b[0m                                 Traceback (most recent call last)",
      "\u001b[1;32m~\\AppData\\Local\\Temp/ipykernel_6224/3161387801.py\u001b[0m in \u001b[0;36m<module>\u001b[1;34m\u001b[0m\n\u001b[1;32m----> 1\u001b[1;33m \u001b[0md\u001b[0m\u001b[1;33m\u001b[0m\u001b[1;33m\u001b[0m\u001b[0m\n\u001b[0m",
      "\u001b[1;31mNameError\u001b[0m: name 'd' is not defined"
     ]
    }
   ],
   "source": [
    "d"
   ]
  },
  {
   "cell_type": "code",
   "execution_count": 9,
   "id": "32d29592",
   "metadata": {},
   "outputs": [],
   "source": [
    "import json\n",
    "with open('test.json','') as f:\n",
    "    d=json.load(f)"
   ]
  },
  {
   "cell_type": "code",
   "execution_count": 10,
   "id": "3fdf8a14",
   "metadata": {},
   "outputs": [
    {
     "name": "stdout",
     "output_type": "stream",
     "text": [
      "{'firstName': 'Jane', 'lastName': 'Doe', 'hobbies': ['running', 'sky diving', 'singing'], 'age': 35, 'children': [{'firstName': 'Alice', 'age': 6}, {'firstName': 'Bob', 'age': 8}]}\n"
     ]
    }
   ],
   "source": [
    "print(d)"
   ]
  },
  {
   "cell_type": "code",
   "execution_count": null,
   "id": "de0a61c4",
   "metadata": {},
   "outputs": [],
   "source": []
  }
 ],
 "metadata": {
  "kernelspec": {
   "display_name": "Python 3 (ipykernel)",
   "language": "python",
   "name": "python3"
  },
  "language_info": {
   "codemirror_mode": {
    "name": "ipython",
    "version": 3
   },
   "file_extension": ".py",
   "mimetype": "text/x-python",
   "name": "python",
   "nbconvert_exporter": "python",
   "pygments_lexer": "ipython3",
   "version": "3.9.7"
  }
 },
 "nbformat": 4,
 "nbformat_minor": 5
}
