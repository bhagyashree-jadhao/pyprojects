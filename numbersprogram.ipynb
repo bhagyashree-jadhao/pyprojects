{
 "cells": [
  {
   "cell_type": "code",
   "execution_count": 4,
   "id": "d594ae03",
   "metadata": {},
   "outputs": [
    {
     "name": "stdout",
     "output_type": "stream",
     "text": [
      "Enter the number10\n",
      "Enter the number20\n",
      "sum of 10 to 20 is =165\n"
     ]
    }
   ],
   "source": [
    "#1.sum of n term\n",
    "m=int(input(\"Enter the number\"))\n",
    "n=int(input(\"Enter the number\"))\n",
    "s=n\n",
    "sum=0\n",
    "while n>=m:\n",
    "\n",
    "    sum=sum+n\n",
    "    n-=1\n",
    "print(f\"sum of {m} to {s} is ={sum}\")"
   ]
  },
  {
   "cell_type": "code",
   "execution_count": 5,
   "id": "3681a13c",
   "metadata": {},
   "outputs": [
    {
     "name": "stdout",
     "output_type": "stream",
     "text": [
      "Enter the any number123456\n",
      "21\n"
     ]
    }
   ],
   "source": [
    "#2.sum of digit of number\n",
    "num=eval(input(\"Enter the any number\"))\n",
    "sum=0\n",
    "\n",
    "while num >0:\n",
    "    mod=num%10\n",
    "    sum=sum+mod\n",
    "    num=num//10\n",
    "print(sum)"
   ]
  },
  {
   "cell_type": "code",
   "execution_count": 6,
   "id": "7503642f",
   "metadata": {},
   "outputs": [
    {
     "name": "stdout",
     "output_type": "stream",
     "text": [
      "Enter the number123456\n",
      "654321\n"
     ]
    }
   ],
   "source": [
    "#Reverse number\n",
    "n=int(input(\"Enter the number\"))\n",
    "rev=0\n",
    "while n>0:\n",
    "    mod=n%10\n",
    "    rev=rev*10+mod\n",
    "    n//=10\n",
    "print(rev)"
   ]
  },
  {
   "cell_type": "code",
   "execution_count": 7,
   "id": "a00f76aa",
   "metadata": {},
   "outputs": [
    {
     "name": "stdout",
     "output_type": "stream",
     "text": [
      "Enter the strat value1\n",
      "Enter the end value20\n",
      "Even number sum is : 90\n",
      "Odd nummber sum is :100\n"
     ]
    }
   ],
   "source": [
    "#4.sum of only even number and odd nuber in given range\n",
    "num1=int(input(\"Enter the strat value\"))\n",
    "num2=int(input(\"Enter the end value\"))\n",
    "even_sum=0\n",
    "odd_sum=0\n",
    "while num1<num2:\n",
    "    if num1%2==0:\n",
    "        even_sum=even_sum+num1\n",
    "    else:\n",
    "        odd_sum=odd_sum+num1\n",
    "    num1+=1\n",
    "print(f\"Even number sum is : {even_sum}\")\n",
    "print(f\"Odd nummber sum is :{odd_sum}\")"
   ]
  },
  {
   "cell_type": "code",
   "execution_count": 8,
   "id": "5560e0c9",
   "metadata": {},
   "outputs": [
    {
     "name": "stdout",
     "output_type": "stream",
     "text": [
      "Enter the number6\n",
      "6 * 1 = 6\n",
      "6 * 2 = 12\n",
      "6 * 3 = 18\n",
      "6 * 4 = 24\n",
      "6 * 5 = 30\n",
      "6 * 6 = 36\n",
      "6 * 7 = 42\n",
      "6 * 8 = 48\n",
      "6 * 9 = 54\n",
      "6 * 10 = 60\n"
     ]
    }
   ],
   "source": [
    "#5.Multiplication table\n",
    "n=int(input(\"Enter the number\"))\n",
    "i=1\n",
    "while i<11:\n",
    "    print(n,'*',i,'=',n*i)\n",
    "    i+=1"
   ]
  },
  {
   "cell_type": "code",
   "execution_count": 14,
   "id": "a37682a4",
   "metadata": {},
   "outputs": [
    {
     "name": "stdout",
     "output_type": "stream",
     "text": [
      "Enter the strat number100\n",
      "Enter the end value999\n",
      "153is armstrong\n",
      "370is armstrong\n",
      "371is armstrong\n",
      "407is armstrong\n",
      "[153, 370, 371, 407]\n"
     ]
    }
   ],
   "source": [
    "#print Armstrong number in range and add into list\n",
    "num1=int(input(\"Enter the strat number\"))\n",
    "num2=int(input(\"Enter the end value\"))\n",
    "l=[]\n",
    "for num in range(num1,num2):\n",
    "    sum=0\n",
    "    temp=num\n",
    "    while temp>0:\n",
    "        mod=temp%10\n",
    "        sum=sum+mod*mod*mod\n",
    "        temp//=10\n",
    "\n",
    "    if num==sum:\n",
    "        l.append(sum)\n",
    "        print(f\"{num}is armstrong\")\n",
    "    else:\n",
    "        continue\n",
    "print(l)"
   ]
  },
  {
   "cell_type": "code",
   "execution_count": 15,
   "id": "2c38bc1d",
   "metadata": {},
   "outputs": [
    {
     "name": "stdout",
     "output_type": "stream",
     "text": [
      "Enter the  number23432\n",
      "Given number 23432is palindreom\n"
     ]
    }
   ],
   "source": [
    "#7check number is Palindrom number\n",
    "num1=int(input(\"Enter the  number\"))\n",
    "sum=0\n",
    "num=num1\n",
    "while num1>0:\n",
    "    mod=num1%10\n",
    "    sum=sum*10+mod\n",
    "    num1//=10\n",
    "if num==sum:\n",
    "    print(\"Given number {}is palindreom\".format(num))\n",
    "else:\n",
    "    print(\"{}number is not palindrom\".format(num))"
   ]
  },
  {
   "cell_type": "code",
   "execution_count": 16,
   "id": "b631d3ac",
   "metadata": {},
   "outputs": [
    {
     "name": "stdout",
     "output_type": "stream",
     "text": [
      "Enter  strating range:2\n",
      "Enter the last number20\n",
      "Prime numbers: 2 3 5 7 11 13 17 19 "
     ]
    }
   ],
   "source": [
    "# 8. print prime number\n",
    "num1=int(input(\"Enter  strating range:\"))\n",
    "num2=int(input(\"Enter the last number\"))\n",
    "print(\"Prime numbers:\", end=' ')\n",
    "if num1>=2:\n",
    "    for n in range(num1,num2):\n",
    "        for i in range(2,n):\n",
    "            if(n%i==0):\n",
    "                break\n",
    "        else:\n",
    "            print(n,end=' ')\n",
    "else:\n",
    "    print(\"Plese enter valid number and first number should greter than 2\")\n",
    "\n"
   ]
  },
  {
   "cell_type": "code",
   "execution_count": 24,
   "id": "8ef7af97",
   "metadata": {},
   "outputs": [
    {
     "name": "stdout",
     "output_type": "stream",
     "text": [
      "Enter the number: 2012\n",
      "2012 is leap year\n"
     ]
    }
   ],
   "source": [
    "# 9. Python Program to Check Leap Year\n",
    "year = int(input(\"Enter the number: \"))  \n",
    "if((year % 400 == 0) or  \n",
    "     (year % 100 != 0) and  \n",
    "     (year % 4 == 0)):   \n",
    "    print(f\"{year} is leap year\")\n",
    "else:\n",
    "   print(f\"{year} is not leap year\")"
   ]
  },
  {
   "cell_type": "code",
   "execution_count": 25,
   "id": "f90aaf01",
   "metadata": {},
   "outputs": [
    {
     "name": "stdout",
     "output_type": "stream",
     "text": [
      "Enter a number: 5\n",
      "The factorial of 5 is 120\n"
     ]
    }
   ],
   "source": [
    "#9. factorial\n",
    "num = int(input(\"Enter a number: \"))\n",
    "\n",
    "factorial = 1\n",
    "\n",
    "# check if the number is negative, positive or zero\n",
    "if num < 0:\n",
    "    print(\"Sorry, factorial does not exist for negative numbers\")\n",
    "elif num == 0:\n",
    "    print(\"The factorial of 0 is 1\")\n",
    "else:\n",
    "    for i in range(1,num + 1):\n",
    "        factorial = factorial*i\n",
    "print(\"The factorial of\",num,\"is\",factorial)"
   ]
  },
  {
   "cell_type": "code",
   "execution_count": 3,
   "id": "710f4fbc",
   "metadata": {},
   "outputs": [
    {
     "name": "stdout",
     "output_type": "stream",
     "text": [
      "Enter a number: 6\n",
      "0\n",
      "1\n",
      "1\n",
      "2\n",
      "3\n",
      "5\n"
     ]
    }
   ],
   "source": [
    "#10. fabbonacci series\n",
    "num = int(input(\"Enter a number: \"))\n",
    "count=0\n",
    "a=0\n",
    "b=1\n",
    "while count<num:\n",
    "    print(a)\n",
    "    c=a+b\n",
    "    a=b\n",
    "    b=c\n",
    "    count+=1"
   ]
  },
  {
   "cell_type": "code",
   "execution_count": 6,
   "id": "d1af027d",
   "metadata": {},
   "outputs": [
    {
     "name": "stdout",
     "output_type": "stream",
     "text": [
      "enter the number10\n",
      "fact of 1 is = 1\n",
      "fact of 2 is = 2\n",
      "fact of 3 is = 6\n",
      "fact of 4 is = 24\n",
      "fact of 5 is = 120\n",
      "fact of 6 is = 720\n",
      "fact of 7 is = 5040\n",
      "fact of 8 is = 40320\n",
      "fact of 9 is = 362880\n"
     ]
    }
   ],
   "source": [
    "# 11. Factorial of n term\n",
    "num=int(input(\"enter the number\"))\n",
    "j=1\n",
    "for i in range(1,num):\n",
    "        j=j*i\n",
    "        print(f\"fact of {i} is = {j}\")"
   ]
  },
  {
   "cell_type": "code",
   "execution_count": null,
   "id": "1b4f7d5d",
   "metadata": {},
   "outputs": [],
   "source": []
  },
  {
   "cell_type": "code",
   "execution_count": null,
   "id": "0114fe55",
   "metadata": {},
   "outputs": [],
   "source": []
  }
 ],
 "metadata": {
  "kernelspec": {
   "display_name": "Python 3 (ipykernel)",
   "language": "python",
   "name": "python3"
  },
  "language_info": {
   "codemirror_mode": {
    "name": "ipython",
    "version": 3
   },
   "file_extension": ".py",
   "mimetype": "text/x-python",
   "name": "python",
   "nbconvert_exporter": "python",
   "pygments_lexer": "ipython3",
   "version": "3.9.7"
  }
 },
 "nbformat": 4,
 "nbformat_minor": 5
}
