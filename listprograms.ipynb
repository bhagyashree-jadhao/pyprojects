{
 "cells": [
  {
   "cell_type": "code",
   "execution_count": 11,
   "id": "7885f375",
   "metadata": {},
   "outputs": [
    {
     "name": "stdout",
     "output_type": "stream",
     "text": [
      "[40, 30, 20, 10]\n"
     ]
    }
   ],
   "source": [
    "\n",
    "#1.REVERSE LIST\n",
    "l=[10,20,30,40]\n",
    "print(l[::-1])\n"
   ]
  },
  {
   "cell_type": "code",
   "execution_count": 12,
   "id": "1281abab",
   "metadata": {},
   "outputs": [
    {
     "name": "stdout",
     "output_type": "stream",
     "text": [
      "enter the number10\n",
      "evenlist:  [2, 4, 6, 8]\n",
      "oddlist:  [1, 3, 5, 7, 9]\n"
     ]
    }
   ],
   "source": [
    "#Add even number  in list\n",
    "evenlist=[]\n",
    "oddlist=[]\n",
    "\n",
    "n=int(input(\"enter the number\"))\n",
    "for i in range (1,n):\n",
    "    if i%2==0:\n",
    "        evenlist.append(i)\n",
    "    else:\n",
    "        oddlist.append(i)\n",
    "print(\"evenlist: \", evenlist)\n",
    "print(\"oddlist: \", oddlist)"
   ]
  },
  {
   "cell_type": "code",
   "execution_count": 21,
   "id": "0844a553",
   "metadata": {},
   "outputs": [
    {
     "name": "stdout",
     "output_type": "stream",
     "text": [
      "duplicate element in list are :  [22, 11, 33]\n",
      "list is remove duplicate element: [11, 12, 22, 33, 55, 44, 15, 99]\n"
     ]
    }
   ],
   "source": [
    "#Find out duplicate element in list\n",
    "l=[11,12,22,33,55,22,44,11,15,33,99]\n",
    "l2=[]\n",
    "for i in l:\n",
    "    if i not in l2:\n",
    "        l2.append(i)\n",
    "    else:\n",
    "        l3.append(i)\n",
    "print(\"duplicate element in list are : \",l3)\n",
    "print(\"list is remove duplicate element:\", l2)\n",
    "\n"
   ]
  },
  {
   "cell_type": "code",
   "execution_count": 30,
   "id": "05fe2613",
   "metadata": {},
   "outputs": [
    {
     "name": "stdout",
     "output_type": "stream",
     "text": [
      "1\n",
      "2\n",
      "6\n",
      "24\n",
      "120\n",
      "720\n",
      "5040\n",
      "40320\n",
      "362880\n",
      "3628800\n"
     ]
    }
   ],
   "source": [
    "#factorial of number that are present in list\n",
    "l=[1,2,3,4,5,6,7,8,9,10]\n",
    "j=1\n",
    "for i in l:\n",
    "        j=j*i\n",
    "        print(j)\n"
   ]
  },
  {
   "cell_type": "code",
   "execution_count": null,
   "id": "57b6ade3",
   "metadata": {},
   "outputs": [],
   "source": []
  },
  {
   "cell_type": "code",
   "execution_count": 51,
   "id": "8689f61d",
   "metadata": {},
   "outputs": [
    {
     "name": "stdout",
     "output_type": "stream",
     "text": [
      "Even index element list are : [1, 3, 5, 7, 9, 11, 33, 55]\n",
      "Odd index : [2, 4, 6, 8, 10, 22, 44]\n"
     ]
    }
   ],
   "source": [
    "#Seperate even index and odd index element\n",
    "l=[1,2,3,4,5,6,7,8,9,10,11,22,33,44,55]\n",
    "def even(*l):\n",
    "    e=[]\n",
    "    o=[]\n",
    "    for i in range(len(l)):\n",
    "        if i %2==0:\n",
    "            e.append(l[i])\n",
    "        else:\n",
    "            o.append(l[i])\n",
    "    print(\"Even index element list are :\",e)\n",
    "    print(\"Odd index :\",o)\n",
    "even(1,2,3,4,5,6,7,8,9,10,11,22,33,44,55)"
   ]
  },
  {
   "cell_type": "code",
   "execution_count": 1,
   "id": "fe40d0b4",
   "metadata": {},
   "outputs": [
    {
     "name": "stdout",
     "output_type": "stream",
     "text": [
      "22\n",
      "44\n",
      "66\n",
      "88\n",
      "30\n",
      "22\n"
     ]
    }
   ],
   "source": [
    "#Prin even number in list\n",
    "def even(*m):\n",
    "    for i in m:\n",
    "        if i%2==0:\n",
    "            print(i)\n",
    "even(11,22,33,44,55,66,77,88,30,55,77,22,33)\n"
   ]
  },
  {
   "cell_type": "code",
   "execution_count": 2,
   "id": "8036cbfe",
   "metadata": {},
   "outputs": [
    {
     "data": {
      "text/plain": [
       "[22, 44, 66, 88, 10, 12]"
      ]
     },
     "execution_count": 2,
     "metadata": {},
     "output_type": "execute_result"
    }
   ],
   "source": [
    "#usinf lambda and filter\n",
    "l=[11,22,33,44,55,66,77,88,99,10,12,13,15,]\n",
    "s=list(filter(lambda x: x%2==0,l))\n",
    "s"
   ]
  },
  {
   "cell_type": "code",
   "execution_count": 5,
   "id": "0f2c9182",
   "metadata": {},
   "outputs": [
    {
     "data": {
      "text/plain": [
       "[1, 4, 9, 16, 25, 36, 49, 64, 81]"
      ]
     },
     "execution_count": 5,
     "metadata": {},
     "output_type": "execute_result"
    }
   ],
   "source": [
    "#print square of every number in list\n",
    "l=[1,2,3,4,5,6,7,8,9]\n",
    "s1=list(map(lambda x : x*x ,l))\n",
    "s1"
   ]
  },
  {
   "cell_type": "code",
   "execution_count": 11,
   "id": "6c25d165",
   "metadata": {},
   "outputs": [
    {
     "data": {
      "text/plain": [
       "45"
      ]
     },
     "execution_count": 11,
     "metadata": {},
     "output_type": "execute_result"
    }
   ],
   "source": [
    "#sum of all element in list using reduce function\n",
    "from functools import reduce\n",
    "s2=reduce(lambda x,y:x+y,l)\n",
    "s2"
   ]
  },
  {
   "cell_type": "code",
   "execution_count": 12,
   "id": "949ddf05",
   "metadata": {},
   "outputs": [
    {
     "data": {
      "text/plain": [
       "45"
      ]
     },
     "execution_count": 12,
     "metadata": {},
     "output_type": "execute_result"
    }
   ],
   "source": [
    "#sum of all element in list \n",
    "sum=0\n",
    "for i in l:\n",
    "    sum=sum+i\n",
    "sum"
   ]
  },
  {
   "cell_type": "code",
   "execution_count": 24,
   "id": "1a825405",
   "metadata": {},
   "outputs": [
    {
     "name": "stdout",
     "output_type": "stream",
     "text": [
      "Maximum number is : 555 in list  at  index position 3\n",
      "Manimum number is:  7 in list  at  index position 10\n"
     ]
    }
   ],
   "source": [
    "#\n",
    "#find min and max number in list\n",
    "l1=[11,10,40,555,33,22,20,50,44,88,7]\n",
    "max1=l1[0]\n",
    "min1=l1[0]\n",
    "for i in range(1,len(l1)):\n",
    "    if max1<l1[i]:\n",
    "        max1=l1[i]\n",
    "        position=i\n",
    "    else:\n",
    "        min1=l1[i]\n",
    "        position1=i\n",
    "print(f\"Maximum number is : {max1} in list  at  index position {position}\" )\n",
    "print(f\"Manimum number is:  {min1} in list  at  index position {position1}\" )\n",
    "\n"
   ]
  },
  {
   "cell_type": "code",
   "execution_count": 1,
   "id": "508329cd",
   "metadata": {},
   "outputs": [
    {
     "name": "stdout",
     "output_type": "stream",
     "text": [
      "enter the  value30,20,50,40,10\n",
      "[10, 20, 30, 40, 50]\n"
     ]
    }
   ],
   "source": [
    "#sorting element in list without using inbuilt function\n",
    "\n",
    "list1=[int(i) for i in input(\"enter the  value\").split(',')]\n",
    "n=len(list1)\n",
    "for i in range(0,n):\n",
    "    for j in range(i+1,n):\n",
    "        if list1[i]>list1[j]:\n",
    "            temp=list1[i]\n",
    "            list1[i]=list1[j]\n",
    "            list1[j]=temp\n",
    "print(list1)"
   ]
  },
  {
   "cell_type": "code",
   "execution_count": 1,
   "id": "fc7df6ce",
   "metadata": {},
   "outputs": [
    {
     "name": "stdout",
     "output_type": "stream",
     "text": [
      "Enter the number500,200,600,100,40,300\n",
      "[40, 100, 200, 300, 500, 600]\n",
      "second smallest element is : 100\n",
      " second largest element is : 500\n"
     ]
    }
   ],
   "source": [
    "# display second smallest and second largest element in list\n",
    "li=[int(i) for i in input(\"Enter the number\").split(',')]\n",
    "num=len(li)\n",
    "for i in range(0,num):\n",
    "    for j in range(i+1,num):\n",
    "        if li[i]>li[j]:\n",
    "            temp=li[i]\n",
    "            li[i]=li[j]\n",
    "            li[j]=temp\n",
    "print(li)\n",
    "print(f\"second smallest element is : {li[1]}\")\n",
    "print(f\"second largest element is : {li[-2]}\")"
   ]
  },
  {
   "cell_type": "code",
   "execution_count": 6,
   "id": "2e52ffc1",
   "metadata": {},
   "outputs": [
    {
     "name": "stdout",
     "output_type": "stream",
     "text": [
      "Enter the number40,50,60,20,10\n",
      "[10, 20, 60, 50, 40]\n"
     ]
    }
   ],
   "source": [
    "# Reverse list without slice method using for loop\n",
    "li=[int(i) for i in input(\"Enter the number\").split(',')]\n",
    "\n",
    "l2=[]\n",
    "i=len(li)-1\n",
    "for j in range(i,-1,-1):\n",
    "    l2.append(li[j])\n",
    "print((l2))"
   ]
  },
  {
   "cell_type": "code",
   "execution_count": 5,
   "id": "7324b4a7",
   "metadata": {},
   "outputs": [
    {
     "name": "stdout",
     "output_type": "stream",
     "text": [
      "Enter the number70,40,80,90\n",
      "[90, 80, 40, 70]\n"
     ]
    }
   ],
   "source": [
    "# Reverse list without slice method\n",
    "li=[int(i) for i in input(\"Enter the number\").split(',')]\n",
    "l=[]\n",
    "i=len(li)-1\n",
    "while i >=0:\n",
    "    l.append(li[i])\n",
    "    i-=1\n",
    "print(l)\n",
    "    "
   ]
  },
  {
   "cell_type": "code",
   "execution_count": null,
   "id": "65a6c29f",
   "metadata": {},
   "outputs": [],
   "source": []
  },
  {
   "cell_type": "code",
   "execution_count": null,
   "id": "cdf94005",
   "metadata": {},
   "outputs": [],
   "source": []
  }
 ],
 "metadata": {
  "kernelspec": {
   "display_name": "Python 3 (ipykernel)",
   "language": "python",
   "name": "python3"
  },
  "language_info": {
   "codemirror_mode": {
    "name": "ipython",
    "version": 3
   },
   "file_extension": ".py",
   "mimetype": "text/x-python",
   "name": "python",
   "nbconvert_exporter": "python",
   "pygments_lexer": "ipython3",
   "version": "3.9.7"
  }
 },
 "nbformat": 4,
 "nbformat_minor": 5
}
