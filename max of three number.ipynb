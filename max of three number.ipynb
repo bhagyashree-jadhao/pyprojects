{
 "cells": [
  {
   "cell_type": "code",
   "execution_count": null,
   "id": "aa2f5df4",
   "metadata": {},
   "outputs": [],
   "source": [
    "a,d,c=[int(i) for i in input(\"Enter the three number\").split(',')]\n",
    "name=\"ram\"\n",
    "#print(\"{0}has {1}years old and hi got {2}per in 12th\".format(name,a,d))"
   ]
  },
  {
   "cell_type": "code",
   "execution_count": 3,
   "id": "3bb737fa",
   "metadata": {},
   "outputs": [
    {
     "name": "stdout",
     "output_type": "stream",
     "text": [
      "Enter the three number6,9,3\n",
      "9 is greater\n"
     ]
    }
   ],
   "source": [
    "a,d,c=[int(i) for i in input(\"Enter the three number\").split(',')]\n",
    "if a<d and c<d:\n",
    "    print(\"{} is greater\".format(d))\n",
    "elif a>d and a>c:\n",
    "        print(\"{} is grater\".format(a))\n",
    "else:\n",
    "    print(\"{} is greater\".format(c))\n"
   ]
  },
  {
   "cell_type": "code",
   "execution_count": null,
   "id": "c624d624",
   "metadata": {},
   "outputs": [],
   "source": []
  },
  {
   "cell_type": "code",
   "execution_count": null,
   "id": "44acece3",
   "metadata": {},
   "outputs": [],
   "source": []
  }
 ],
 "metadata": {
  "kernelspec": {
   "display_name": "Python 3 (ipykernel)",
   "language": "python",
   "name": "python3"
  },
  "language_info": {
   "codemirror_mode": {
    "name": "ipython",
    "version": 3
   },
   "file_extension": ".py",
   "mimetype": "text/x-python",
   "name": "python",
   "nbconvert_exporter": "python",
   "pygments_lexer": "ipython3",
   "version": "3.9.7"
  }
 },
 "nbformat": 4,
 "nbformat_minor": 5
}
