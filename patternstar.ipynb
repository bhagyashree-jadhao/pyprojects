{
 "cells": [
  {
   "cell_type": "code",
   "execution_count": 2,
   "id": "c3e15df7",
   "metadata": {},
   "outputs": [
    {
     "name": "stdout",
     "output_type": "stream",
     "text": [
      "1\n",
      "22\n",
      "333\n",
      "4444\n"
     ]
    }
   ],
   "source": [
    "for  i in range(1,5):\n",
    "    for j in range(1,i+1):\n",
    "        print(i,end='')\n",
    "    print()"
   ]
  },
  {
   "cell_type": "code",
   "execution_count": 3,
   "id": "75126902",
   "metadata": {},
   "outputs": [
    {
     "name": "stdout",
     "output_type": "stream",
     "text": [
      "1\n",
      "12\n",
      "123\n",
      "1234\n",
      "12345\n"
     ]
    }
   ],
   "source": [
    "for i in range(1,6):\n",
    "    for j in range(1,i+1):\n",
    "        print(j,end='')\n",
    "    print()"
   ]
  },
  {
   "cell_type": "code",
   "execution_count": 14,
   "id": "f6cf6526",
   "metadata": {},
   "outputs": [
    {
     "name": "stdout",
     "output_type": "stream",
     "text": [
      "1 \n",
      "2 3 \n",
      "4 5 6 \n",
      "7 8 9 10 \n"
     ]
    }
   ],
   "source": [
    "n=1\n",
    "for i in range(1,5):\n",
    "    for j in range(1,i+1):\n",
    "        print(n,end=' ')\n",
    "        n+=1\n",
    "    \n",
    "    print()"
   ]
  },
  {
   "cell_type": "code",
   "execution_count": 15,
   "id": "945d99b5",
   "metadata": {},
   "outputs": [
    {
     "name": "stdout",
     "output_type": "stream",
     "text": [
      "10 \n",
      "9 8 \n",
      "7 6 5 \n",
      "4 3 2 1 \n"
     ]
    }
   ],
   "source": [
    "n=10\n",
    "for i in range(1,5):\n",
    "    for j in range(1,i+1):\n",
    "        print(n,end=' ')\n",
    "        n-=1\n",
    "    print()"
   ]
  },
  {
   "cell_type": "code",
   "execution_count": 18,
   "id": "4d51a9e1",
   "metadata": {},
   "outputs": [
    {
     "name": "stdout",
     "output_type": "stream",
     "text": [
      "enter the number6\n",
      "6 \n",
      "12 18 \n",
      "24 30 36 \n",
      "42 48 54 60 \n"
     ]
    }
   ],
   "source": [
    "n=int(input(\"enter the number\"))\n",
    "k=1\n",
    "for i in range(1,5):\n",
    "    for j in range(1,i+1):\n",
    "        print(n*k,end=' ')\n",
    "        k+=1\n",
    "    print()"
   ]
  },
  {
   "cell_type": "code",
   "execution_count": 23,
   "id": "cb34c60c",
   "metadata": {},
   "outputs": [
    {
     "name": "stdout",
     "output_type": "stream",
     "text": [
      "enter the row6\n",
      "     * \n",
      "    * * \n",
      "   * * * \n",
      "  * * * * \n",
      " * * * * * \n",
      "* * * * * * \n"
     ]
    }
   ],
   "source": [
    "n=int(input(\"enter the row\"))\n",
    "a=n-1\n",
    "\n",
    "for i in range(n):\n",
    "    for j in range(a):\n",
    "        print(end=' ')\n",
    "    a=a-1\n",
    "    for j in range(i+1):\n",
    "        print('*',end=' ')\n",
    "    print()"
   ]
  },
  {
   "cell_type": "code",
   "execution_count": 28,
   "id": "b106b802",
   "metadata": {},
   "outputs": [
    {
     "name": "stdout",
     "output_type": "stream",
     "text": [
      "Enter the row5\n",
      "    1 \n",
      "   2 3 \n",
      "  4 5 6 \n",
      " 7 8 9 10 \n",
      "11 12 13 14 15 \n"
     ]
    }
   ],
   "source": [
    "n=int(input (\"Enter the row\"))\n",
    "a=n-1\n",
    "k=1\n",
    "for i in range(n):\n",
    "    for j in range(a):\n",
    "        print(end=' ')\n",
    "    a=a-1\n",
    "    for j in range(i+1):\n",
    "        print(k,end=' ')\n",
    "        k+=1\n",
    "    print()"
   ]
  },
  {
   "cell_type": "code",
   "execution_count": 37,
   "id": "999095de",
   "metadata": {},
   "outputs": [
    {
     "name": "stdout",
     "output_type": "stream",
     "text": [
      "Enter the row6\n",
      "     6 \n",
      "    12 18 \n",
      "   24 30 36 \n",
      "  42 48 54 60 \n"
     ]
    }
   ],
   "source": [
    "n=int(input (\"Enter the row\"))\n",
    "a=n-1\n",
    "k=1\n",
    "for i in range(4):\n",
    "    for j in range(a):\n",
    "        print(end=' ')\n",
    "    a=a-1\n",
    "    for j in range(i+1):\n",
    "        print(n*k,end=' ')\n",
    "        k+=1\n",
    "    print()"
   ]
  },
  {
   "cell_type": "code",
   "execution_count": 38,
   "id": "bcb6eae6",
   "metadata": {},
   "outputs": [
    {
     "name": "stdout",
     "output_type": "stream",
     "text": [
      "*****\n",
      "****\n",
      "***\n",
      "**\n",
      "*\n"
     ]
    }
   ],
   "source": [
    "for i in range(1,6):\n",
    "    for j in range(6,i,-1):\n",
    "        print('*',end='')\n",
    "    print()"
   ]
  },
  {
   "cell_type": "code",
   "execution_count": 39,
   "id": "48ad30f8",
   "metadata": {},
   "outputs": [
    {
     "name": "stdout",
     "output_type": "stream",
     "text": [
      "Enter the row5\n",
      "    * \n",
      "   * * \n",
      "  * * * \n",
      " * * * * \n",
      "* * * * * \n"
     ]
    }
   ],
   "source": [
    "n=int(input(\"Enter the row\"))\n",
    "a=n-1\n",
    "for i in range(n):\n",
    "    for j in range(a):\n",
    "        print(end=' ')\n",
    "    a=a-1\n",
    "    for j in range(i+1):\n",
    "        print('*',end=' ')\n",
    "    print()\n",
    "        "
   ]
  },
  {
   "cell_type": "code",
   "execution_count": 1,
   "id": "35dd7e04",
   "metadata": {},
   "outputs": [
    {
     "name": "stdout",
     "output_type": "stream",
     "text": [
      "Enter the row5\n",
      "        * * * * * * \n",
      "         * * * * * \n",
      "          * * * * \n",
      "           * * * \n",
      "            * * \n",
      "             * \n"
     ]
    }
   ],
   "source": [
    "n=int(input(\"Enter the row\"))\n",
    "a = (2 * n) - 2\n",
    "for i in range(n, -1, -1):\n",
    "    for j in range(a, 0, -1):\n",
    "        print(end=\" \")\n",
    "         \n",
    "      \n",
    "    a = a + 1\n",
    "    for j in range(0, i+1):\n",
    "         \n",
    "        print(\"* \",end=\"\")\n",
    "    print()"
   ]
  },
  {
   "cell_type": "code",
   "execution_count": null,
   "id": "b2d82004",
   "metadata": {},
   "outputs": [],
   "source": []
  }
 ],
 "metadata": {
  "kernelspec": {
   "display_name": "Python 3 (ipykernel)",
   "language": "python",
   "name": "python3"
  },
  "language_info": {
   "codemirror_mode": {
    "name": "ipython",
    "version": 3
   },
   "file_extension": ".py",
   "mimetype": "text/x-python",
   "name": "python",
   "nbconvert_exporter": "python",
   "pygments_lexer": "ipython3",
   "version": "3.9.7"
  }
 },
 "nbformat": 4,
 "nbformat_minor": 5
}
