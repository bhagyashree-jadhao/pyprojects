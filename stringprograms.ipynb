{
 "cells": [
  {
   "cell_type": "code",
   "execution_count": 18,
   "id": "d1ba5c34",
   "metadata": {},
   "outputs": [
    {
     "name": "stdout",
     "output_type": "stream",
     "text": [
      "enter the stringwelcome to python\n",
      "nohtyp ot emoclew\n"
     ]
    }
   ],
   "source": [
    "#reverse of string\n",
    "s1=input(\"enter the string\")\n",
    "s=''\n",
    "for i in s1:\n",
    "    s=i+s\n",
    "print(s)\n"
   ]
  },
  {
   "cell_type": "code",
   "execution_count": 19,
   "id": "6076ac15",
   "metadata": {},
   "outputs": [
    {
     "name": "stdout",
     "output_type": "stream",
     "text": [
      "Enter the stringwelcome to python\n",
      "emoclew ot nohtyp \n"
     ]
    }
   ],
   "source": [
    "#WAP to reverse every word in the string \n",
    "s=input(\"Enter the string\")\n",
    "s1=''\n",
    "l=s.split()\n",
    "for i in l:\n",
    "    s1=s1+i[::-1]+' '\n",
    "print(s1)\n",
    "    \n"
   ]
  },
  {
   "cell_type": "code",
   "execution_count": 20,
   "id": "368401a3",
   "metadata": {},
   "outputs": [
    {
     "name": "stdout",
     "output_type": "stream",
     "text": [
      "17\n"
     ]
    }
   ],
   "source": [
    "#count the length of string\n",
    "count=0\n",
    "for i in s:\n",
    "    count+=1\n",
    "print(count)"
   ]
  },
  {
   "cell_type": "code",
   "execution_count": 25,
   "id": "fb72af5e",
   "metadata": {},
   "outputs": [
    {
     "name": "stdout",
     "output_type": "stream",
     "text": [
      "Total number of vowels present in welcome to python are : 5 and vowels are : eoeoo\n"
     ]
    }
   ],
   "source": [
    "#count the number of vowels present in a string\n",
    "cnt=0\n",
    "v='AEIOUaeiou'\n",
    "i=0\n",
    "s3=''\n",
    "while i < len(s):\n",
    "    if s[i] in v:\n",
    "        cnt+=1\n",
    "        s3=s3+s[i]\n",
    "    i+=1\n",
    "print(f\"Total number of vowels present in {s} are : {cnt} and vowels are : {s3}\")"
   ]
  },
  {
   "cell_type": "code",
   "execution_count": 33,
   "id": "d816d50e",
   "metadata": {},
   "outputs": [
    {
     "name": "stdout",
     "output_type": "stream",
     "text": [
      "welcom tpyhn\n"
     ]
    }
   ],
   "source": [
    "#Remove duplicate charecter from string\n",
    "s4=''\n",
    "for i in s:\n",
    "    if i not in s4:\n",
    "        s4=s4+i\n",
    "print(s4)\n"
   ]
  },
  {
   "cell_type": "code",
   "execution_count": null,
   "id": "7a5468ea",
   "metadata": {},
   "outputs": [],
   "source": [
    "s=input(\"enter the string\")\n",
    "s4=''\n",
    "while i<len(s):\n",
    "    if s[i] not in s4:\n",
    "        s4=s4+s[i]\n",
    "print(s4)\n"
   ]
  },
  {
   "cell_type": "code",
   "execution_count": 6,
   "id": "f219a3ce",
   "metadata": {},
   "outputs": [
    {
     "name": "stdout",
     "output_type": "stream",
     "text": [
      "Entert the stringpython is easy to learn and simple programming language. \n",
      "Enter the number6\n",
      "string are: programming. :- whose lenght is greter than 6\n",
      "string are: language.. :- whose lenght is greter than 6\n",
      "Total number of string are : 2\n"
     ]
    }
   ],
   "source": [
    "#Python program to find and count all string which are greater than given length k\n",
    "s=input(\"Entert the string\")\n",
    "n=int(input(\"Enter the number\"))\n",
    "l=s.split()\n",
    "count=0\n",
    "for i in l:\n",
    "    if len(i) > n:\n",
    "        count+=1\n",
    "        print(f'string are: {i}. :- whose lenght is greter than {n}')\n",
    "print(f'Total number of string are : {count}')"
   ]
  },
  {
   "cell_type": "code",
   "execution_count": 17,
   "id": "b7eecf05",
   "metadata": {},
   "outputs": [
    {
     "name": "stdout",
     "output_type": "stream",
     "text": [
      "Enter the string: welcome to python\n",
      "w*lc*m* t* pyth*n\n"
     ]
    }
   ],
   "source": [
    "#replace the vowels character by *\n",
    "s=input(\"Enter the string: \")\n",
    "s1=''\n",
    "for i in s:\n",
    "    if i in v:\n",
    "        s1=s1+'*'\n",
    "    else:\n",
    "        s1=s1+i\n",
    "\n",
    "    \n",
    "print(s1)"
   ]
  },
  {
   "cell_type": "code",
   "execution_count": 24,
   "id": "85941ffd",
   "metadata": {},
   "outputs": [
    {
     "name": "stdout",
     "output_type": "stream",
     "text": [
      "Enter the string: welcome to python   \n",
      "welcome#to#python###\n"
     ]
    }
   ],
   "source": [
    "#replace the space with  #\n",
    "s=input(\"Enter the string: \")\n",
    "if s.strip():\n",
    "    print(s.replace(' ','#'))\n",
    "\n",
    "\n",
    "        "
   ]
  },
  {
   "cell_type": "code",
   "execution_count": 30,
   "id": "a14c20ad",
   "metadata": {},
   "outputs": [
    {
     "name": "stdout",
     "output_type": "stream",
     "text": [
      "Enter the string: one two three four five six seven eight\n",
      "['one', 'owt', 'three', 'ruof', 'five', 'xis', 'seven', 'thgie']\n",
      "one owt three ruof five xis seven thgie\n"
     ]
    }
   ],
   "source": [
    "#Write A Program to Perform the Following Task using while loop?\n",
    "#Input:’one two three four five six seven’\n",
    "#Output:’one owt three ruof five xis seven’\n",
    "s=input(\"Enter the string: \")\n",
    "l=s.split()\n",
    "i=0\n",
    "l1=[]\n",
    "while i<len(l):\n",
    "    if i%2==0:\n",
    "        l1.append(l[i])\n",
    "    else:\n",
    "        l1.append(l[i][::-1])\n",
    "    i+=1\n",
    "s1=' '.join(l1)\n",
    "\n",
    "print(l1)\n",
    "print(s1)"
   ]
  },
  {
   "cell_type": "code",
   "execution_count": 38,
   "id": "dbee76ee",
   "metadata": {},
   "outputs": [
    {
     "name": "stdout",
     "output_type": "stream",
     "text": [
      "Enter the string: one two three four five six seven eight\n",
      "['one', 'owt', 'three', 'ruof', 'five', 'xis', 'seven', 'thgie']\n",
      "one owt three ruof five xis seven thgie\n"
     ]
    }
   ],
   "source": [
    "#Write A Program to Perform the Following Task using for loop?\n",
    "#Input:’one two three four five six seven’\n",
    "#Output:’one owt three ruof five xis seven’\n",
    "s=input(\"Enter the string: \")\n",
    "l=s.split()\n",
    "i=0\n",
    "l1=[]\n",
    "for i in l:\n",
    "    if l.index(i)%2==0:\n",
    "        l1.append(i)\n",
    "    else:\n",
    "        l1.append(i[::-1])\n",
    "    \n",
    "s1=' '.join(l1)\n",
    "\n",
    "print(l1)\n",
    "print(s1)"
   ]
  },
  {
   "cell_type": "code",
   "execution_count": 34,
   "id": "ef76898d",
   "metadata": {},
   "outputs": [
    {
     "name": "stdout",
     "output_type": "stream",
     "text": [
      "4\n"
     ]
    }
   ],
   "source": [
    "s=\"welcome\"\n",
    "print(s.index('o'))"
   ]
  },
  {
   "cell_type": "code",
   "execution_count": 4,
   "id": "dd926158",
   "metadata": {},
   "outputs": [
    {
     "name": "stdout",
     "output_type": "stream",
     "text": [
      "Enter the string: welcome to python\n",
      " even index char are : wloet yhn\n",
      " odd index char are : ecm opto\n"
     ]
    }
   ],
   "source": [
    "#seperate even index and odd index char\n",
    "\n",
    "s=input(\"Enter the string: \")\n",
    "i=0\n",
    "e_s=''\n",
    "o_s=''\n",
    "while i <len(s):\n",
    "    if i%2==0:\n",
    "        e_s=e_s+s[i]\n",
    "    else:\n",
    "        o_s=o_s+s[i]\n",
    "    i+=1\n",
    "        \n",
    "print(f\" even index char are : {e_s}\")\n",
    "print(f\" odd index char are : {o_s}\")\n",
    "        "
   ]
  },
  {
   "cell_type": "code",
   "execution_count": 18,
   "id": "5abc0402",
   "metadata": {},
   "outputs": [
    {
     "name": "stdout",
     "output_type": "stream",
     "text": [
      "Enter the string: pink\n",
      "['i', 'k', 'n', 'p']\n",
      "Enter the string: nipk\n",
      "['i', 'k', 'n', 'p']\n",
      "string is anagram\n"
     ]
    }
   ],
   "source": [
    "#Python Program to Check If Two Strings are Anagram\n",
    "s=input(\"Enter the string: \").lower()\n",
    "s2=sorted(s)\n",
    "\n",
    "print(s2)\n",
    "s1=input(\"Enter the string: \").lower()\n",
    "s3=sorted(s)\n",
    "print(s3)\n",
    "if s3==s3:\n",
    "    print(\"string is anagram\")\n",
    "else:\n",
    "    print(\"string is not anagram\")\n",
    "\n"
   ]
  },
  {
   "cell_type": "code",
   "execution_count": 30,
   "id": "68f483be",
   "metadata": {},
   "outputs": [
    {
     "name": "stdout",
     "output_type": "stream",
     "text": [
      "String after sorting : Wceelmo\n"
     ]
    }
   ],
   "source": [
    "#sort string \n",
    "import functools\n",
    "str=\"Welcome\"\n",
    "result = functools.reduce(lambda x, y: x + y, sorted(str))\n",
    "\n",
    "\n",
    "print(\"String after sorting : \" + result)"
   ]
  },
  {
   "cell_type": "code",
   "execution_count": 15,
   "id": "79b0e89b",
   "metadata": {},
   "outputs": [
    {
     "name": "stdout",
     "output_type": "stream",
     "text": [
      "2021\n"
     ]
    }
   ],
   "source": [
    "#seperate year\n",
    "import re\n",
    "s=\"Welcome to python today is 21th may 2021\"\n",
    "year=re.search('\\d{4}',s)\n",
    "print(year.group())"
   ]
  },
  {
   "cell_type": "code",
   "execution_count": 12,
   "id": "242a2667",
   "metadata": {},
   "outputs": [
    {
     "name": "stdout",
     "output_type": "stream",
     "text": [
      "1972\n"
     ]
    }
   ],
   "source": [
    "sentence= \"Tony was born on May 1st 1972.\"\n",
    "\n",
    "date= re.search(\"\\d{4}\",sentence)\n",
    "\n",
    "print(date.group())"
   ]
  },
  {
   "cell_type": "markdown",
   "id": "3f1ac867",
   "metadata": {},
   "source": [
    "#  reapeted  string check  \n",
    "#abab=true\n",
    "#aabbaabb=true\n",
    "#abcabde=false\n",
    "#like that"
   ]
  },
  {
   "cell_type": "code",
   "execution_count": 14,
   "id": "1220d8e4",
   "metadata": {},
   "outputs": [
    {
     "name": "stdout",
     "output_type": "stream",
     "text": [
      "Enter the string: abcdefabcdktui\n",
      "abcdefabcdktui : False\n"
     ]
    }
   ],
   "source": [
    "import re \n",
    "def match_pattern():\n",
    "    str1=input(\"Enter the string: \")\n",
    "    s2=str1*2\n",
    "    #print(s2)\n",
    "    #remove first and last char in s3\n",
    "    # here used slice operator\n",
    "    s3=s2[1:len(s2)-1]\n",
    "    #print(s3)\n",
    "    #search your main string str1 in s3\n",
    "    # i used reguler expression and import re module\n",
    "    if re.search(str1,s3):\n",
    "        print(str1,\" : True\")\n",
    "    else:\n",
    "        print(str1,\": False\")\n",
    "match_pattern()\n",
    "#***OUTPUT***\n",
    "#Enter the stringabcabc\n",
    "#abcabc  : True\n",
    "#Enter the string: welcometopythonwelcometopython\n",
    "#welcometopythonwelcometopython  : True\n",
    "#Enter the string: welcometopythonwelcometojava\n",
    "#welcometopythonwelcometojava : False"
   ]
  },
  {
   "cell_type": "code",
   "execution_count": null,
   "id": "1ddfe0b3",
   "metadata": {},
   "outputs": [],
   "source": []
  },
  {
   "cell_type": "code",
   "execution_count": null,
   "id": "96602aa0",
   "metadata": {},
   "outputs": [],
   "source": []
  }
 ],
 "metadata": {
  "kernelspec": {
   "display_name": "Python 3 (ipykernel)",
   "language": "python",
   "name": "python3"
  },
  "language_info": {
   "codemirror_mode": {
    "name": "ipython",
    "version": 3
   },
   "file_extension": ".py",
   "mimetype": "text/x-python",
   "name": "python",
   "nbconvert_exporter": "python",
   "pygments_lexer": "ipython3",
   "version": "3.9.7"
  }
 },
 "nbformat": 4,
 "nbformat_minor": 5
}
